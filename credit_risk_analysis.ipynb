{
 "cells": [
  {
   "cell_type": "markdown",
   "metadata": {},
   "source": [
    "# Credit Risk Analysis\n",
    "\n",
    "- Nama : Rahmat Fajri\n",
    "- Email : rfajri912@gmail.com\n",
    "- [Portofoli](https://rfajri27.github.io/MyPortfolio/)\n",
    "\n",
    "Project ini menggunakan data *risk rating* berdasarkan data historis lamanya proses pengembalian pinjaman. Pada project ini akan dilakukan analisis terhadpa data dan membuat *decision making model* terhadap pengajuan pinjaman baru."
   ]
  },
  {
   "cell_type": "code",
   "execution_count": 2,
   "metadata": {},
   "outputs": [],
   "source": [
    "import pandas as pd \n",
    "import numpy as np\n",
    "import matplotlib.pyplot as plt\n",
    "import seaborn as sns\n",
    "from sklearn.preprocessing import LabelEncoder\n",
    "from sklearn.model_selection import train_test_split\n",
    "from sklearn.tree import DecisionTreeClassifier"
   ]
  },
  {
   "cell_type": "markdown",
   "metadata": {},
   "source": [
    "## Load Data"
   ]
  },
  {
   "cell_type": "code",
   "execution_count": 3,
   "metadata": {},
   "outputs": [
    {
     "data": {
      "text/html": [
       "<div>\n",
       "<style scoped>\n",
       "    .dataframe tbody tr th:only-of-type {\n",
       "        vertical-align: middle;\n",
       "    }\n",
       "\n",
       "    .dataframe tbody tr th {\n",
       "        vertical-align: top;\n",
       "    }\n",
       "\n",
       "    .dataframe thead th {\n",
       "        text-align: right;\n",
       "    }\n",
       "</style>\n",
       "<table border=\"1\" class=\"dataframe\">\n",
       "  <thead>\n",
       "    <tr style=\"text-align: right;\">\n",
       "      <th></th>\n",
       "      <th>kode_kontrak</th>\n",
       "      <th>pendapatan_setahun_juta</th>\n",
       "      <th>kpr_aktif</th>\n",
       "      <th>durasi_pinjaman_bulan</th>\n",
       "      <th>jumlah_tanggungan</th>\n",
       "      <th>rata_rata_overdue</th>\n",
       "      <th>risk_rating</th>\n",
       "    </tr>\n",
       "  </thead>\n",
       "  <tbody>\n",
       "    <tr>\n",
       "      <th>0</th>\n",
       "      <td>AGR-000001</td>\n",
       "      <td>295</td>\n",
       "      <td>YA</td>\n",
       "      <td>48</td>\n",
       "      <td>5</td>\n",
       "      <td>61 - 90 days</td>\n",
       "      <td>4</td>\n",
       "    </tr>\n",
       "    <tr>\n",
       "      <th>1</th>\n",
       "      <td>AGR-000011</td>\n",
       "      <td>271</td>\n",
       "      <td>YA</td>\n",
       "      <td>36</td>\n",
       "      <td>5</td>\n",
       "      <td>61 - 90 days</td>\n",
       "      <td>4</td>\n",
       "    </tr>\n",
       "    <tr>\n",
       "      <th>2</th>\n",
       "      <td>AGR-000030</td>\n",
       "      <td>159</td>\n",
       "      <td>TIDAK</td>\n",
       "      <td>12</td>\n",
       "      <td>0</td>\n",
       "      <td>0 - 30 days</td>\n",
       "      <td>1</td>\n",
       "    </tr>\n",
       "    <tr>\n",
       "      <th>3</th>\n",
       "      <td>AGR-000043</td>\n",
       "      <td>210</td>\n",
       "      <td>YA</td>\n",
       "      <td>12</td>\n",
       "      <td>3</td>\n",
       "      <td>46 - 60 days</td>\n",
       "      <td>3</td>\n",
       "    </tr>\n",
       "    <tr>\n",
       "      <th>4</th>\n",
       "      <td>AGR-000049</td>\n",
       "      <td>165</td>\n",
       "      <td>TIDAK</td>\n",
       "      <td>36</td>\n",
       "      <td>0</td>\n",
       "      <td>31 - 45 days</td>\n",
       "      <td>2</td>\n",
       "    </tr>\n",
       "  </tbody>\n",
       "</table>\n",
       "</div>"
      ],
      "text/plain": [
       "  kode_kontrak  pendapatan_setahun_juta kpr_aktif  durasi_pinjaman_bulan  \\\n",
       "0   AGR-000001                      295        YA                     48   \n",
       "1   AGR-000011                      271        YA                     36   \n",
       "2   AGR-000030                      159     TIDAK                     12   \n",
       "3   AGR-000043                      210        YA                     12   \n",
       "4   AGR-000049                      165     TIDAK                     36   \n",
       "\n",
       "   jumlah_tanggungan rata_rata_overdue  risk_rating  \n",
       "0                  5      61 - 90 days            4  \n",
       "1                  5      61 - 90 days            4  \n",
       "2                  0       0 - 30 days            1  \n",
       "3                  3      46 - 60 days            3  \n",
       "4                  0      31 - 45 days            2  "
      ]
     },
     "execution_count": 3,
     "metadata": {},
     "output_type": "execute_result"
    }
   ],
   "source": [
    "df = pd.read_excel('data/credit_scoring.xlsx')\n",
    "\n",
    "df.head()"
   ]
  },
  {
   "cell_type": "code",
   "execution_count": 5,
   "metadata": {},
   "outputs": [
    {
     "data": {
      "text/html": [
       "<div>\n",
       "<style scoped>\n",
       "    .dataframe tbody tr th:only-of-type {\n",
       "        vertical-align: middle;\n",
       "    }\n",
       "\n",
       "    .dataframe tbody tr th {\n",
       "        vertical-align: top;\n",
       "    }\n",
       "\n",
       "    .dataframe thead th {\n",
       "        text-align: right;\n",
       "    }\n",
       "</style>\n",
       "<table border=\"1\" class=\"dataframe\">\n",
       "  <thead>\n",
       "    <tr style=\"text-align: right;\">\n",
       "      <th></th>\n",
       "      <th>pendapatan_setahun_juta</th>\n",
       "      <th>durasi_pinjaman_bulan</th>\n",
       "      <th>jumlah_tanggungan</th>\n",
       "      <th>risk_rating</th>\n",
       "    </tr>\n",
       "  </thead>\n",
       "  <tbody>\n",
       "    <tr>\n",
       "      <th>count</th>\n",
       "      <td>900.000000</td>\n",
       "      <td>900.000000</td>\n",
       "      <td>900.000000</td>\n",
       "      <td>900.000000</td>\n",
       "    </tr>\n",
       "    <tr>\n",
       "      <th>mean</th>\n",
       "      <td>163.318889</td>\n",
       "      <td>29.933333</td>\n",
       "      <td>2.932222</td>\n",
       "      <td>2.681111</td>\n",
       "    </tr>\n",
       "    <tr>\n",
       "      <th>std</th>\n",
       "      <td>51.863210</td>\n",
       "      <td>13.671988</td>\n",
       "      <td>2.007457</td>\n",
       "      <td>1.294928</td>\n",
       "    </tr>\n",
       "    <tr>\n",
       "      <th>min</th>\n",
       "      <td>70.000000</td>\n",
       "      <td>12.000000</td>\n",
       "      <td>0.000000</td>\n",
       "      <td>1.000000</td>\n",
       "    </tr>\n",
       "    <tr>\n",
       "      <th>25%</th>\n",
       "      <td>121.000000</td>\n",
       "      <td>12.000000</td>\n",
       "      <td>1.000000</td>\n",
       "      <td>1.000000</td>\n",
       "    </tr>\n",
       "    <tr>\n",
       "      <th>50%</th>\n",
       "      <td>162.000000</td>\n",
       "      <td>24.000000</td>\n",
       "      <td>3.000000</td>\n",
       "      <td>3.000000</td>\n",
       "    </tr>\n",
       "    <tr>\n",
       "      <th>75%</th>\n",
       "      <td>199.000000</td>\n",
       "      <td>48.000000</td>\n",
       "      <td>5.000000</td>\n",
       "      <td>3.000000</td>\n",
       "    </tr>\n",
       "    <tr>\n",
       "      <th>max</th>\n",
       "      <td>300.000000</td>\n",
       "      <td>48.000000</td>\n",
       "      <td>6.000000</td>\n",
       "      <td>5.000000</td>\n",
       "    </tr>\n",
       "  </tbody>\n",
       "</table>\n",
       "</div>"
      ],
      "text/plain": [
       "       pendapatan_setahun_juta  durasi_pinjaman_bulan  jumlah_tanggungan  \\\n",
       "count               900.000000             900.000000         900.000000   \n",
       "mean                163.318889              29.933333           2.932222   \n",
       "std                  51.863210              13.671988           2.007457   \n",
       "min                  70.000000              12.000000           0.000000   \n",
       "25%                 121.000000              12.000000           1.000000   \n",
       "50%                 162.000000              24.000000           3.000000   \n",
       "75%                 199.000000              48.000000           5.000000   \n",
       "max                 300.000000              48.000000           6.000000   \n",
       "\n",
       "       risk_rating  \n",
       "count   900.000000  \n",
       "mean      2.681111  \n",
       "std       1.294928  \n",
       "min       1.000000  \n",
       "25%       1.000000  \n",
       "50%       3.000000  \n",
       "75%       3.000000  \n",
       "max       5.000000  "
      ]
     },
     "execution_count": 5,
     "metadata": {},
     "output_type": "execute_result"
    }
   ],
   "source": [
    "df.describe()"
   ]
  },
  {
   "cell_type": "code",
   "execution_count": 6,
   "metadata": {},
   "outputs": [
    {
     "data": {
      "text/plain": [
       "kode_kontrak               900\n",
       "pendapatan_setahun_juta    203\n",
       "kpr_aktif                    2\n",
       "durasi_pinjaman_bulan        4\n",
       "jumlah_tanggungan            7\n",
       "rata_rata_overdue            5\n",
       "risk_rating                  5\n",
       "dtype: int64"
      ]
     },
     "execution_count": 6,
     "metadata": {},
     "output_type": "execute_result"
    }
   ],
   "source": [
    "df.nunique()"
   ]
  },
  {
   "cell_type": "markdown",
   "metadata": {},
   "source": [
    "## Exploratory Data Analysis"
   ]
  },
  {
   "cell_type": "code",
   "execution_count": 13,
   "metadata": {},
   "outputs": [
    {
     "data": {
      "image/png": "[encoded data removed]",
      "text/plain": [
       "<Figure size 720x360 with 1 Axes>"
      ]
     },
     "metadata": {
      "needs_background": "light"
     },
     "output_type": "display_data"
    }
   ],
   "source": [
    "plt.figure(figsize=(10,5))  \n",
    "ax = sns.boxplot(x = 'risk_rating',y = 'pendapatan_setahun_juta', data = df)  \n",
    "plt.title ('Box Plot Pendapatan per Tahun (juta)', fontsize=12)\n",
    "#plt.savefig('images/box_plot_pendapatan.png')\n",
    "plt.show() "
   ]
  },
  {
   "cell_type": "code",
   "execution_count": 15,
   "metadata": {},
   "outputs": [
    {
     "data": {
      "image/png": "[encoded data removed]",
      "text/plain": [
       "<Figure size 720x360 with 1 Axes>"
      ]
     },
     "metadata": {
      "needs_background": "light"
     },
     "output_type": "display_data"
    },
    {
     "data": {
      "image/png": "[encoded data removed]",
      "text/plain": [
       "<Figure size 720x360 with 1 Axes>"
      ]
     },
     "metadata": {
      "needs_background": "light"
     },
     "output_type": "display_data"
    },
    {
     "data": {
      "image/png": "[encoded data removed]",
      "text/plain": [
       "<Figure size 720x360 with 1 Axes>"
      ]
     },
     "metadata": {
      "needs_background": "light"
     },
     "output_type": "display_data"
    },
    {
     "data": {
      "image/png": "[encoded data removed]",
      "text/plain": [
       "<Figure size 720x360 with 1 Axes>"
      ]
     },
     "metadata": {
      "needs_background": "light"
     },
     "output_type": "display_data"
    },
    {
     "data": {
      "image/png": "[encoded data removed]",
      "text/plain": [
       "<Figure size 720x360 with 1 Axes>"
      ]
     },
     "metadata": {
      "needs_background": "light"
     },
     "output_type": "display_data"
    }
   ],
   "source": [
    "kolom_kategorik = ['kpr_aktif', 'durasi_pinjaman_bulan', 'jumlah_tanggungan', \n",
    "                   'rata_rata_overdue', 'risk_rating']\n",
    "\n",
    "for i in kolom_kategorik:  \n",
    "    plt.figure(figsize=(10,5))  \n",
    "    ax = sns.countplot(data = df, x = 'risk_rating', hue = i )  \n",
    "    plt.title('Distribusi risk rating berdasarkan {}'.format(i), fontsize=15)  \n",
    "    ax.legend(loc=\"upper center\")  \n",
    "    \n",
    "    #sns.despine(right=True,top = True, left = True)  \n",
    "    ax.axes.yaxis.set_visible(False)\n",
    "    #plt.savefig('images/plot_cc_{}'.format(i))\n",
    "    plt.show()  "
   ]
  },
  {
   "cell_type": "code",
   "execution_count": 11,
   "metadata": {},
   "outputs": [
    {
     "data": {
      "text/plain": [
       "Index(['kode_kontrak', 'pendapatan_setahun_juta', 'kpr_aktif',\n",
       "       'durasi_pinjaman_bulan', 'jumlah_tanggungan', 'rata_rata_overdue',\n",
       "       'risk_rating'],\n",
       "      dtype='object')"
      ]
     },
     "execution_count": 11,
     "metadata": {},
     "output_type": "execute_result"
    }
   ],
   "source": [
    "df.columns"
   ]
  },
  {
   "cell_type": "code",
   "execution_count": null,
   "metadata": {},
   "outputs": [],
   "source": []
  }
 ],
 "metadata": {
  "hide_input": false,
  "kernelspec": {
   "display_name": "Python 3",
   "language": "python",
   "name": "python3"
  },
  "language_info": {
   "codemirror_mode": {
    "name": "ipython",
    "version": 3
   },
   "file_extension": ".py",
   "mimetype": "text/x-python",
   "name": "python",
   "nbconvert_exporter": "python",
   "pygments_lexer": "ipython3",
   "version": "3.8.5"
  },
  "toc": {
   "base_numbering": 1,
   "nav_menu": {},
   "number_sections": true,
   "sideBar": true,
   "skip_h1_title": false,
   "title_cell": "Table of Contents",
   "title_sidebar": "Contents",
   "toc_cell": false,
   "toc_position": {},
   "toc_section_display": true,
   "toc_window_display": false
  },
  "varInspector": {
   "cols": {
    "lenName": 16,
    "lenType": 16,
    "lenVar": 40
   },
   "kernels_config": {
    "python": {
     "delete_cmd_postfix": "",
     "delete_cmd_prefix": "del ",
     "library": "var_list.py",
     "varRefreshCmd": "print(var_dic_list())"
    },
    "r": {
     "delete_cmd_postfix": ") ",
     "delete_cmd_prefix": "rm(",
     "library": "var_list.r",
     "varRefreshCmd": "cat(var_dic_list()) "
    }
   },
   "types_to_exclude": [
    "module",
    "function",
    "builtin_function_or_method",
    "instance",
    "_Feature"
   ],
   "window_display": false
  }
 },
 "nbformat": 4,
 "nbformat_minor": 4
}
